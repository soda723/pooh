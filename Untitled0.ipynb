{
  "nbformat": 4,
  "nbformat_minor": 0,
  "metadata": {
    "colab": {
      "name": "Untitled0.ipynb",
      "provenance": [],
      "authorship_tag": "ABX9TyPfubJ1XSlJXFMNjY78eAVA",
      "include_colab_link": true
    },
    "kernelspec": {
      "name": "python3",
      "display_name": "Python 3"
    }
  },
  "cells": [
    {
      "cell_type": "markdown",
      "metadata": {
        "id": "view-in-github",
        "colab_type": "text"
      },
      "source": [
        "<a href=\"https://colab.research.google.com/github/soda723/pooh/blob/master/Untitled0.ipynb\" target=\"_parent\"><img src=\"https://colab.research.google.com/assets/colab-badge.svg\" alt=\"Open In Colab\"/></a>"
      ]
    },
    {
      "cell_type": "markdown",
      "metadata": {
        "id": "Gxs7TuoXLL8K",
        "colab_type": "text"
      },
      "source": [
        "#연습하기\n",
        "##연습하기2\n",
        "###연습 제목이 점점 작아진다 6까지\n",
        "* * *\n",
        "\n",
        "**강조1번 볼드체 별두개**\n",
        "\n",
        "*별하나는 이탤릭체*\n",
        "\n",
        "__강조2번 볼드체 아래대쉬두개__\n",
        "\n",
        "_아래대쉬하나도 이탤릭체_\n",
        "\n",
        "~~취소선은 물결2개~~\n",
        "\n",
        "* * *\n",
        "\n",
        "* 번호가 없는 리스트 별앞에만하나\n",
        "  + 번호없는리스트 플러스앞에만 하나\n",
        "    - 번호없는리스트 대쉬앞에만 하나\n",
        "    * 기호는 상관없음 \n",
        "1. 번호가 있는 리스트\n",
        "2. 번호가 있는 리스트2\n",
        "3. 번호가 있는 리스트3\n",
        "\n",
        "* * *\n",
        "\n",
        "> BlockQuote(블럭인용문자)오른쪽방향화살표\n",
        "\n",
        "<수평선>\n",
        "* * *\n",
        "***\n",
        "*****\n",
        "- - -\n",
        "--------------------\n",
        "\n",
        "<링크>\n",
        "\n",
        "[전남대학교 포털](https://portal.jnu.ac.kr/Common/Login/Login.aspx)\n",
        "\n",
        "<이미지>\n",
        "![테스트이미지]()\n",
        "\n",
        "\n"
      ]
    },
    {
      "cell_type": "code",
      "metadata": {
        "id": "O--uxWzWNO_E",
        "colab_type": "code",
        "colab": {}
      },
      "source": [
        "#환영인사함수\n",
        "def hello(name):\n",
        "  return f'환영합니다. {name}님!'\n"
      ],
      "execution_count": 0,
      "outputs": []
    },
    {
      "cell_type": "code",
      "metadata": {
        "id": "k9xqb7mZNmHF",
        "colab_type": "code",
        "colab": {}
      },
      "source": [
        "name = input('이름을 입력해주세요')\n",
        "hello(name)"
      ],
      "execution_count": 0,
      "outputs": []
    }
  ]
}