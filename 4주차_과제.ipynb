{
  "nbformat": 4,
  "nbformat_minor": 0,
  "metadata": {
    "colab": {
      "name": "4주차 과제",
      "provenance": [],
      "collapsed_sections": [],
      "include_colab_link": true
    },
    "kernelspec": {
      "name": "python3",
      "display_name": "Python 3"
    }
  },
  "cells": [
    {
      "cell_type": "markdown",
      "metadata": {
        "id": "view-in-github",
        "colab_type": "text"
      },
      "source": [
        "<a href=\"https://colab.research.google.com/github/soda723/pooh/blob/master/4%EC%A3%BC%EC%B0%A8_%EA%B3%BC%EC%A0%9C.ipynb\" target=\"_parent\"><img src=\"https://colab.research.google.com/assets/colab-badge.svg\" alt=\"Open In Colab\"/></a>"
      ]
    },
    {
      "cell_type": "markdown",
      "metadata": {
        "id": "wxkL6PjwsI6L",
        "colab_type": "text"
      },
      "source": [
        "# 4주차 과제\n",
        "- 용어 정리\n",
        "- 딥러닝 강의 클론 코딩\n",
        "- 딥러닝 순전파 & 역전파 계산"
      ]
    },
    {
      "cell_type": "markdown",
      "metadata": {
        "id": "ixEtDe6_uGgI",
        "colab_type": "text"
      },
      "source": [
        "## 1. 용어 정리\n",
        "\n",
        "다음 제시된 단어의 정의(설명)를 정리하여 작성 하세요.\n",
        "\n",
        "* 2문장 이상 작성 해 주세요. \n",
        "* 주제(단어)와 크게 벗어나지만 않는다면 정답처리 됩니다.\n",
        "* 강의 뿐 아니라 기타 레퍼런스를 참고하여 작성하셔도 됩니다. (기타 레퍼런스를 참고하신 경우, 해당 레퍼런스를 정리하여 하단에 작성해 주세요.)\n"
      ]
    },
    {
      "cell_type": "markdown",
      "metadata": {
        "id": "0lfwat8eurKZ",
        "colab_type": "text"
      },
      "source": [
        "__(예시)__\n",
        "### 심층 신경망\n",
        ": 입력층과 출력층 사이에 여러 개의 은닉층들로 이뤄진 인공신경망이다. 심층 신경망은 일반적으로 인공신경망과 마찬가지로 복잡한 비선형 관계들을 모델링 할 수 있다. 신층신경망의 목적은 분류 및 수치예측을 하기 위함이고 이미지 트레이닝이나 문자인식과 같은 분야에서 매우 유용하게 쓰이고 있다."
      ]
    },
    {
      "cell_type": "markdown",
      "metadata": {
        "id": "Y8YJNKG_v65A",
        "colab_type": "text"
      },
      "source": [
        "### MCP 뉴런\n",
        ": 맥컬록-피츠 뉴런. 1943년 Warren McCulloch 와 Walter Pitts 가 AI 설계를 위해 생물학적 뇌가 동작하는 방식을 이해하려는 시도로부터 제안된 간소화된 뉴런의 개념이다. 이 뉴런은 활성화되거나 혹은 활성화되지 않는 2가지 상태만을 가지고 있다. 논리곱(AND), 논리합(OR)등의 단순한 논리 구현을 할 수 있다. \n",
        "\n",
        "### 퍼셉트론\n",
        ": 신경망(딥러닝)의 기원이 되는 알고리즘으로, 1957년 프랭크 로젠블렛(Frank Rosenblatt)이 발표한 자동으로 최적의 가중치를 학습하는 알고리즘이다. MCP 뉴런을 기초로 하여 뉴런이 신호를 발생할지 안할지에 대한 여부를 결정하기위한 가중치 값을 자동적으로 학습한다. Hebbian learning rule에 근거한다. 입력층(Input layer)과 출력층(Output layer) 은닉층(Hidden layer)으로 이루어져 있고, 은닉층이 없는 모델은 단층 퍼센트론, 은닉층이 있는 모델은 다중 퍼셉트론이라고 한다. \n",
        "\n",
        "### 역전파\n",
        ": 뉴런의 가중치를 효율적으로 조정하기위해 거꾸로 무엇인가를 전파하는 방식. 출력값과 지도데이터 사이의 오차를 통해 출력층에서 입력층 방향으로 가중치를 조정한다. 경사하강법이 많이 사용되고있다. 경사하강법을 이용할시 기울기가 0값에 수렴한다고 해서 항상 최솟값이 아니라는 것에 주의해야한다. \n",
        "\n",
        "### 강화학습\n",
        ": 주어진 환경(state)에서 어떤 행동(action)을 평가하고 어떤 보상(award)을 주는 알고리즘. 다양한 시행착오를 통해 보상을 최대화하는 의사결정 전략을 이용한다. 명확한 보상을 설정할 수 있는 문제 해결에 유용하다. 강화학습은 에피소드가 끝나게 되었을때 에이전트가 지나왔던 상태에서 했던 행동에 대한 정보를 기록하고 그 정보를 이용하여 다음 에피스드에 대한 의사결정을 하게된다. 다시 이 에피소드로 얻게 된 정보를 기억 업데이트 과정을 반복하게된다. \n",
        "\n",
        "### 과적합\n",
        ": 훈련데이터(학습데이터)에 대해 과도하게 학습이 되어 훈련데이터에 대해서는 오차가 적었지만, 검증 데이터 또는 실제데이터를 적용했을 때 오히려 오차가 커지고 성능이 떨어지는 현상이다. 데이터의 양이 적을 경우 데이터의 양을 늘리거나 모델 복잡도 줄이기, 정규화, 드롭아웃 등의 방법으로 어느정도 방지할 수 있다.\n",
        "\n",
        "\n",
        "### 차원의 저주\n",
        ": 고정된 크기의 훈련 데이터 셋의 차원이 늘어남에 따라 특성 공간이 점점 희소해지는 현상이다. 차원이 커질 수록 비어있는 설명공간이 늘어나고 이로인해 불필요한 저장공간과 처리시간이 늘어나게 되면서 성능이 저하된다.  더 많은 데이터를 수집하거나 차원축소기법( : 대부분 정보를 유지하면서 더 작은 차원의 부분 공간으로 데이터를 압축하는 기법)등으로 어느정도 해결할 수 있다. \n",
        "\n",
        "\n",
        "---\n",
        "### < 참고자료 >\n",
        " * [(책) \"4차 산업 혁명 현장 전문가가 알려주는 - 빅데이터 분석과 활용\"(박인근 외)](https://play.google.com/store/books/details?id=JivZDwAAQBAJ&rdid=book-JivZDwAAQBAJ&rdot=1&source=gbs_vpt_read&pcampaignid=books_booksearch_viewport)\n",
        "\n",
        "\n",
        "\n"
      ]
    },
    {
      "cell_type": "markdown",
      "metadata": {
        "id": "d-zfFXLCy6jD",
        "colab_type": "text"
      },
      "source": [
        "## 2. 딥러닝 강의 클론 코딩\n",
        "\n",
        "####__퍼셉트론 구조 구현하기__ \n",
        "딥러닝 강의(__딥러닝 원리[1] 3:15 ~ 5:15 부분__)를 보고 코드를 따라 치며 출력 결과를 만드세요.\n",
        " \n",
        "\n",
        "* 하나의 코드셀에 해당 코드를 한번에 다 적어서 실행해주세요 (__그렇게 하지 않을 경우, 아래 이미지와 같은 출력값이 나오지 않을 수 있습니다__)\n",
        "\n",
        "*__주의!__ 실제로 코딩해서 출력해보면 강의에 나온 출력 결과와 다르게 나옵니다!!\n"
      ]
    },
    {
      "cell_type": "markdown",
      "metadata": {
        "id": "wcc5mzI9oZ7r",
        "colab_type": "text"
      },
      "source": [
        "![대체 텍스트](https://www.notion.so/image/https%3A%2F%2Fs3-us-west-2.amazonaws.com%2Fsecure.notion-static.com%2F0cceeed0-0235-4b0f-af88-0b8c377d5b4b%2F_2020-06-09__9.35.23.png?table=block&id=88fd8912-9356-49a4-9fda-a1a63fe96ea9&width=2870&cache=v2)"
      ]
    },
    {
      "cell_type": "code",
      "metadata": {
        "id": "Kal__aA_t38n",
        "colab_type": "code",
        "outputId": "c90fa922-a3c5-4863-827b-8940cb6685b2",
        "colab": {
          "base_uri": "https://localhost:8080/",
          "height": 210
        }
      },
      "source": [
        "import tensorflow as tf\n",
        "tf.compat.v1.set_random_seed(2020)\n",
        "x = 1\n",
        "y = 0\n",
        "w = tf.random.normal([1], 0, 1) #가중치 무작위로 선정\n",
        "\n",
        "import math #활성화 함수로 시그모이드 함수 이용\n",
        "def sigmoid(x) : \n",
        "  return 1 / (1 + math.exp(-x))\n",
        "\n",
        "output = sigmoid( x * w)\n",
        "print(output)\n",
        "\n",
        "for i in range(1000):\n",
        "  output = sigmoid(x * w)\n",
        "  error = y - output #기대출력 - 실제출력\n",
        "  w = w + x * 0.1 * error #경사하강법 이용 학습률 0.1로 설정\n",
        "\n",
        "  if i % 100 == 99 :\n",
        "    print(\"학습 횟수: \", i, \"Error: \", error, \"예측 결과: \", output)\n"
      ],
      "execution_count": 0,
      "outputs": [
        {
          "output_type": "stream",
          "text": [
            "0.47477188589261\n",
            "학습 횟수:  99 Error:  -0.10010598284299604 예측 결과:  0.10010598284299604\n",
            "학습 횟수:  199 Error:  -0.05178399422833116 예측 결과:  0.05178399422833116\n",
            "학습 횟수:  299 Error:  -0.034590451977903586 예측 결과:  0.034590451977903586\n",
            "학습 횟수:  399 Error:  -0.02588962752851373 예측 결과:  0.02588962752851373\n",
            "학습 횟수:  499 Error:  -0.020658699939863617 예측 결과:  0.020658699939863617\n",
            "학습 횟수:  599 Error:  -0.017174253993457355 예측 결과:  0.017174253993457355\n",
            "학습 횟수:  699 Error:  -0.014689506449480992 예측 결과:  0.014689506449480992\n",
            "학습 횟수:  799 Error:  -0.012829497265431342 예측 결과:  0.012829497265431342\n",
            "학습 횟수:  899 Error:  -0.011385568271837804 예측 결과:  0.011385568271837804\n",
            "학습 횟수:  999 Error:  -0.010232493309882492 예측 결과:  0.010232493309882492\n"
          ],
          "name": "stdout"
        }
      ]
    },
    {
      "cell_type": "markdown",
      "metadata": {
        "id": "kr0HVRk8fOom",
        "colab_type": "text"
      },
      "source": [
        "## 3. 딥러닝 순전파 & 역전파 계산\n",
        "\n",
        "딥러닝 강의(__딥러닝 원리[2] 0:55 ~ 4:32 부분__)에 나오는 순전파 & 역전파 계산에 대한 문제 입니다.\n",
        "\n",
        "해당 영상과 다음 이미지를 참고하여 다음 2가지 물음에 답하세요.\n",
        "\n",
        "\n",
        "(1) 학습률이 0.2 일 경우 출력층의 노드값\n",
        "\n",
        "(2) 학습률이 0.1과 0.2 중 기대출력값이 지도데이터 \"3\"과 더 가까운 학습률은?"
      ]
    },
    {
      "cell_type": "markdown",
      "metadata": {
        "id": "CpwPFWhOUzww",
        "colab_type": "text"
      },
      "source": [
        "![대체 텍스트](https://www.notion.so/image/https%3A%2F%2Fs3-us-west-2.amazonaws.com%2Fsecure.notion-static.com%2Ff54dfd45-92ec-44ae-9616-6949d2484a45%2F_2020-06-10__5.22.03.png?table=block&id=ee05da89-3ceb-4ad9-a2d3-c9f68d24d1d9&width=3580&cache=v2)"
      ]
    },
    {
      "cell_type": "markdown",
      "metadata": {
        "id": "B2OVY7w5U3CI",
        "colab_type": "text"
      },
      "source": [
        "## (1) 학습률이 0.2 일 경우 출력층의 노드값 : 1.6\n",
        "## (2) 학습률이 0.1과 0.2 중 기대출력값이 지도데이터 \"3\"과 더 가까운 학습률은? : 0.1"
      ]
    },
    {
      "cell_type": "code",
      "metadata": {
        "id": "BgavfvqiWxBU",
        "colab_type": "code",
        "colab": {}
      },
      "source": [
        ""
      ],
      "execution_count": 0,
      "outputs": []
    }
  ]
}